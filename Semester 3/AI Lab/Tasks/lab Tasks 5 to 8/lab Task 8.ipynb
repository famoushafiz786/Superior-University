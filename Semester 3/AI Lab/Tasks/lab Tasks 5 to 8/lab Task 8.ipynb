{
 "cells": [
  {
   "cell_type": "markdown",
   "metadata": {},
   "source": [
    "#  Code Of Min Max Algorithm :"
   ]
  },
  {
   "cell_type": "code",
   "execution_count": null,
   "metadata": {},
   "outputs": [
    {
     "name": "stdout",
     "output_type": "stream",
     "text": [
      "The optimal value is : 12\n",
      "3.0\n"
     ]
    }
   ],
   "source": [
    "import math\n",
    "\n",
    "def mm(level, pos, is_max, vals, depth):\n",
    "    if level == depth:\n",
    "        return vals[pos]\n",
    "    if is_max:\n",
    "        return max(mm(level + 1, pos * 2, False, vals, depth),\n",
    "                   mm(level + 1, pos * 2 + 1, False, vals, depth))\n",
    "    else:\n",
    "        return min(mm(level + 1, pos * 2, True, vals, depth),\n",
    "                   mm(level + 1, pos * 2 + 1, True, vals, depth))\n",
    "\n",
    "# Example usage\n",
    "vals = [3, 5, 2, 9, 12, 5, 23, 23]\n",
    "depth = math.log(len(vals), 2)\n",
    "\n",
    "print(\"Optimal value: \", end=\"\")\n",
    "print(mm(0, 0, True, vals, depth))\n",
    "print(\"Tree depth: \", depth)"
   ]
  },
  {
   "cell_type": "code",
   "execution_count": null,
   "metadata": {},
   "outputs": [],
   "source": []
  }
 ],
 "metadata": {
  "kernelspec": {
   "display_name": "Python 3",
   "language": "python",
   "name": "python3"
  },
  "language_info": {
   "codemirror_mode": {
    "name": "ipython",
    "version": 3
   },
   "file_extension": ".py",
   "mimetype": "text/x-python",
   "name": "python",
   "nbconvert_exporter": "python",
   "pygments_lexer": "ipython3",
   "version": "3.12.5"
  }
 },
 "nbformat": 4,
 "nbformat_minor": 2
}
