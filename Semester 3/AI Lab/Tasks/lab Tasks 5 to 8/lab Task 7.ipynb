{
 "cells": [
  {
   "cell_type": "markdown",
   "metadata": {},
   "source": [
    "# Code A* Algorithm : "
   ]
  },
  {
   "cell_type": "markdown",
   "metadata": {},
   "source": [
    "### Without Importing any library"
   ]
  },
  {
   "cell_type": "code",
   "execution_count": null,
   "metadata": {},
   "outputs": [
    {
     "name": "stdout",
     "output_type": "stream",
     "text": [
      "Path from A to G: ['A', 'C', 'I', 'G']\n"
     ]
    }
   ],
   "source": [
    "graph = {\n",
    "    \"A\": [(\"B\",4),(\"C\",5)],\n",
    "    \"B\": [(\"D\",7),(\"E\",2)],\n",
    "    \"C\": [(\"H\",4),(\"I\",5)],\n",
    "    \"H\": [(\"G\",8),(\"C\",5)],\n",
    "    \"D\": [(\"B\",7),(\"F\",5)],\n",
    "    \"E\": [(\"B\",2)],\n",
    "    \"I\": [(\"C\",5),(\"G\",3)],\n",
    "    \"F\": [(\"D\",5)],\n",
    "    \"G\": [(\"H\",8),(\"I\",3)]\n",
    "}\n",
    "\n",
    "def get_adj(v):\n",
    "    return graph.get(v)\n",
    "\n",
    "def heuristic(n):\n",
    "    h = {\n",
    "        \"A\": 5,\n",
    "        \"B\": 4,\n",
    "        \"C\": 9,\n",
    "        \"H\": 12,\n",
    "        \"D\": 3,\n",
    "        \"E\": 6,\n",
    "        \"I\": 5,\n",
    "        \"F\": 7,\n",
    "        \"G\": 8\n",
    "    }\n",
    "    return h.get(n)\n",
    "\n",
    "def astar(start, goal):\n",
    "    open_set = {start}\n",
    "    closed_set = set()\n",
    "    g = {start: 0}\n",
    "    parents = {start: start}\n",
    "\n",
    "    while open_set:\n",
    "        current = min(open_set, key=lambda x: g[x] + heuristic(x))\n",
    "        if current == goal:\n",
    "            path = []\n",
    "            while parents[current] != current:\n",
    "                path.append(current)\n",
    "                current = parents[current]\n",
    "            path.append(start)\n",
    "            return path[::-1]\n",
    "        open_set.remove(current)\n",
    "        closed_set.add(current)\n",
    "\n",
    "        for neighbor, weight in get_adj(current):\n",
    "            if neighbor not in open_set and neighbor not in closed_set:\n",
    "                open_set.add(neighbor)\n",
    "                parents[neighbor] = current\n",
    "                g[neighbor] = g[current] + weight\n",
    "            elif g[neighbor] > g[current] + weight:\n",
    "                g[neighbor] = g[current] + weight\n",
    "                parents[neighbor] = current\n",
    "                if neighbor in closed_set:\n",
    "                    closed_set.remove(neighbor)\n",
    "                    open_set.add(neighbor)\n",
    "\n",
    "    return None\n",
    "\n",
    "start_node = \"A\"\n",
    "goal_node = \"G\"\n",
    "path = astar(start_node, goal_node)\n",
    "print(f\"Path from {start_node} to {goal_node}: {path}\")"
   ]
  }
 ],
 "metadata": {
  "kernelspec": {
   "display_name": "Python 3",
   "language": "python",
   "name": "python3"
  },
  "language_info": {
   "codemirror_mode": {
    "name": "ipython",
    "version": 3
   },
   "file_extension": ".py",
   "mimetype": "text/x-python",
   "name": "python",
   "nbconvert_exporter": "python",
   "pygments_lexer": "ipython3",
   "version": "3.12.5"
  }
 },
 "nbformat": 4,
 "nbformat_minor": 2
}
