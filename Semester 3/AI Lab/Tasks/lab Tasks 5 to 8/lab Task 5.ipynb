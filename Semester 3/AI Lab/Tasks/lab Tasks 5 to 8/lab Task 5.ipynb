{
 "cells": [
  {
   "cell_type": "markdown",
   "metadata": {},
   "source": [
    "# DFS With Stack & Node :"
   ]
  },
  {
   "cell_type": "code",
   "execution_count": null,
   "metadata": {},
   "outputs": [
    {
     "name": "stdout",
     "output_type": "stream",
     "text": [
      "A\n",
      "C\n",
      "B\n",
      "D\n"
     ]
    }
   ],
   "source": [
    "class Node:\n",
    "    def __init__(self, data):\n",
    "        self.data = data\n",
    "        self.adj = []\n",
    "\n",
    "    @staticmethod\n",
    "    def traverse(root_node):\n",
    "        visited = []\n",
    "        stack = [root_node]\n",
    "        while stack:\n",
    "            current = stack.pop()\n",
    "            if current not in visited:\n",
    "                visited.append(current)\n",
    "                print(current.data)\n",
    "                stack.extend(neighbor for neighbor in current.adj if neighbor not in visited)\n",
    "\n",
    "\n",
    "# Example usage:\n",
    "n1 = Node(\"A\")\n",
    "n2 = Node(\"B\")\n",
    "n3 = Node(\"C\")\n",
    "n4 = Node(\"D\")\n",
    "n1.adj = [n2, n3]\n",
    "n2.adj = [n4]\n",
    "\n",
    "Node.traverse(n1)"
   ]
  },
  {
   "cell_type": "markdown",
   "metadata": {},
   "source": [
    "# Research About "
   ]
  },
  {
   "cell_type": "markdown",
   "metadata": {},
   "source": [
    "### \"Inorder, Preorder, Postorder\" And Implement In DFS :"
   ]
  },
  {
   "cell_type": "code",
   "execution_count": null,
   "metadata": {},
   "outputs": [
    {
     "name": "stdout",
     "output_type": "stream",
     "text": [
      "Inorder:\n",
      "4\n",
      "2\n",
      "5\n",
      "1\n",
      "3\n",
      "\n",
      "Preorder:\n",
      "1\n",
      "2\n",
      "4\n",
      "5\n",
      "3\n",
      "\n",
      "Postorder:\n",
      "4\n",
      "5\n",
      "2\n",
      "3\n",
      "1\n"
     ]
    }
   ],
   "source": [
    "class TreeNode:\n",
    "    def __init__(self, data):\n",
    "        self.data = data\n",
    "        self.left_child = None\n",
    "        self.right_child = None\n",
    "\n",
    "    @staticmethod\n",
    "    def inorder_traversal(node):\n",
    "        if node:\n",
    "            TreeNode.inorder_traversal(node.left_child)\n",
    "            print(node.data)\n",
    "            TreeNode.inorder_traversal(node.right_child)\n",
    "\n",
    "    @staticmethod\n",
    "    def preorder_traversal(node):\n",
    "        if node:\n",
    "            print(node.data)\n",
    "            TreeNode.preorder_traversal(node.left_child)\n",
    "            TreeNode.preorder_traversal(node.right_child)\n",
    "\n",
    "    @staticmethod\n",
    "    def postorder_traversal(node):\n",
    "        if node:\n",
    "            TreeNode.postorder_traversal(node.left_child)\n",
    "            TreeNode.postorder_traversal(node.right_child)\n",
    "            print(node.data)\n",
    "\n",
    "\n",
    "# Example usage:\n",
    "root_node = TreeNode(1)\n",
    "root_node.left_child = TreeNode(2)\n",
    "root_node.right_child = TreeNode(3)\n",
    "root_node.left_child.left_child = TreeNode(4)\n",
    "root_node.left_child.right_child = TreeNode(5)\n",
    "\n",
    "print(\"Inorder traversal:\")\n",
    "TreeNode.inorder_traversal(root_node)\n",
    "print(\"\\nPreorder traversal:\")\n",
    "TreeNode.preorder_traversal(root_node)\n",
    "print(\"\\nPostorder traversal:\")\n",
    "TreeNode.postorder_traversal(root_node)"
   ]
  }
 ],
 "metadata": {
  "kernelspec": {
   "display_name": "Python 3",
   "language": "python",
   "name": "python3"
  },
  "language_info": {
   "codemirror_mode": {
    "name": "ipython",
    "version": 3
   },
   "file_extension": ".py",
   "mimetype": "text/x-python",
   "name": "python",
   "nbconvert_exporter": "python",
   "pygments_lexer": "ipython3",
   "version": "3.12.5"
  }
 },
 "nbformat": 4,
 "nbformat_minor": 2
}
