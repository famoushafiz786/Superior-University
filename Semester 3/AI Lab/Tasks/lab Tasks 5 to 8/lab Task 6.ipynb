{
 "cells": [
  {
   "cell_type": "markdown",
   "metadata": {},
   "source": [
    "#  BFS Without Queue & Exculed Node :"
   ]
  },
  {
   "cell_type": "code",
   "execution_count": null,
   "metadata": {},
   "outputs": [
    {
     "name": "stdout",
     "output_type": "stream",
     "text": [
      "['A', 'B', 'D', 'E', 'F', 'C']\n"
     ]
    }
   ],
   "source": [
    "def traverse(nodes, origin):\n",
    "    seen = set()\n",
    "    path = []\n",
    "    def discover(node):\n",
    "        seen.add(node)\n",
    "        path.append(node)\n",
    "        for adjacent in nodes[node]:\n",
    "            if adjacent not in seen:\n",
    "                discover(adjacent)\n",
    "    discover(origin)\n",
    "    return path\n",
    "\n",
    "map = {\n",
    "    'A': ['B', 'C'],\n",
    "    'B': ['D', 'E'],\n",
    "    'C': ['F'],\n",
    "    'D': [],\n",
    "    'E': ['F'],\n",
    "    'F': []\n",
    "}\n",
    "print(traverse(map, 'A'))"
   ]
  },
  {
   "cell_type": "markdown",
   "metadata": {},
   "source": [
    "# BFS With Queue & Node :"
   ]
  },
  {
   "cell_type": "code",
   "execution_count": null,
   "metadata": {},
   "outputs": [
    {
     "name": "stdout",
     "output_type": "stream",
     "text": [
      "['A', 'B', 'C', 'D', 'E', 'F']\n"
     ]
    }
   ],
   "source": [
    "from collections import deque\n",
    "\n",
    "class Node:\n",
    "    def __init__(self, val):\n",
    "        self.val = val\n",
    "        self.adj = []\n",
    "\n",
    "    @staticmethod\n",
    "    def traverse(root):\n",
    "        q = deque([root])\n",
    "        seen = set()\n",
    "        order = []\n",
    "\n",
    "        while q:\n",
    "            node = q.popleft()\n",
    "            if node.val not in seen:\n",
    "                seen.add(node.val)\n",
    "                order.append(node.val)\n",
    "                for neighbor in node.adj:\n",
    "                    q.append(neighbor)\n",
    "\n",
    "        return order\n",
    "a = Node('A')\n",
    "b = Node('B')\n",
    "c = Node('C')\n",
    "d = Node('D')\n",
    "e = Node('E')\n",
    "f = Node('F')\n",
    "\n",
    "a.adj = [b, c]\n",
    "b.adj = [d, e]\n",
    "c.adj = [f]\n",
    "\n",
    "print(Node.traverse(a))"
   ]
  }
 ],
 "metadata": {
  "kernelspec": {
   "display_name": "Python 3",
   "language": "python",
   "name": "python3"
  },
  "language_info": {
   "codemirror_mode": {
    "name": "ipython",
    "version": 3
   },
   "file_extension": ".py",
   "mimetype": "text/x-python",
   "name": "python",
   "nbconvert_exporter": "python",
   "pygments_lexer": "ipython3",
   "version": "3.12.5"
  }
 },
 "nbformat": 4,
 "nbformat_minor": 2
}
